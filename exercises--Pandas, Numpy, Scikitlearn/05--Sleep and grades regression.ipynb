{
 "cells": [
  {
   "cell_type": "code",
   "execution_count": 1,
   "metadata": {
    "collapsed": true
   },
   "outputs": [],
   "source": [
    "# Regression and Classification programming exercises\n",
    "\n",
    "# In this exercise we will be taking a small data set and computing a linear function\n",
    "# that fits it, by hand.\n",
    "\n",
    "import numpy as np"
   ]
  },
  {
   "cell_type": "code",
   "execution_count": 2,
   "metadata": {
    "collapsed": true
   },
   "outputs": [],
   "source": [
    "sleep = [5,6,7,8,10]\n",
    "scores = [65,51,75,75,86]"
   ]
  },
  {
   "cell_type": "code",
   "execution_count": 19,
   "metadata": {
    "collapsed": false
   },
   "outputs": [
    {
     "name": "stdout",
     "output_type": "stream",
     "text": [
      "Average sleep: 7.2\n",
      "Normalized sleep: [-2.2000000000000002, -1.2000000000000002, -0.20000000000000018, 0.79999999999999982, 2.7999999999999998]\n"
     ]
    }
   ],
   "source": [
    "avg_sleep = np.mean(sleep)\n",
    "normalized_sleep = [(sleep[i] - avg_sleep) for i in range(len(sleep))]\n",
    "    \n",
    "print('Average sleep: {}\\nNormalized sleep: {}'.format(avg_sleep, normalized_sleep))"
   ]
  },
  {
   "cell_type": "code",
   "execution_count": 17,
   "metadata": {
    "collapsed": false
   },
   "outputs": [
    {
     "name": "stdout",
     "output_type": "stream",
     "text": [
      "Average score: 70.4\n",
      "Normalized scores: [-5.4000000000000057, -19.400000000000006, 4.5999999999999943, 4.5999999999999943, 15.599999999999994]\n"
     ]
    }
   ],
   "source": [
    "avg_scores = np.mean(scores)\n",
    "normalized_scores = [(scores[i] - avg_scores) for i in range(len(scores))]\n",
    "print('Average score: {}\\nNormalized scores: {}'.format(avg_scores, normalized_scores))"
   ]
  },
  {
   "cell_type": "code",
   "execution_count": 22,
   "metadata": {
    "collapsed": false
   },
   "outputs": [
    {
     "name": "stdout",
     "output_type": "stream",
     "text": [
      "Your linear model is y=5.51351351351*x+30.7027027027\n"
     ]
    }
   ],
   "source": [
    "def compute_regression(sleep,scores):\n",
    "\n",
    "    # First, compute the average amount of each list\n",
    "    l = len(sleep)\n",
    "\n",
    "    avg_sleep = np.mean(sleep)\n",
    "    avg_scores = np.mean(scores)\n",
    "\n",
    "    # Then normalize the lists by subtracting the mean value from each entry\n",
    "\n",
    "    normalized_sleep = [(sleep[i] - avg_sleep) for i in range(l)]\n",
    "    normalized_scores = [(scores[i] - avg_scores) for i in range(l)]\n",
    "\n",
    "    # Compute the slope of the line by taking the sum over each student\n",
    "    # of the product of their normalized sleep times their normalized test score.\n",
    "    # Then divide this by the sum of squares of the normalized sleep times.\n",
    "\n",
    "    slope = sum( [normalized_sleep[i]*normalized_scores[i] for i in range(l)])/\\\n",
    "            sum( [normalized_sleep[i]**2 for i in range(l)])\n",
    "\n",
    "    # Finally, We have a linear function of the form\n",
    "    # y - avg_y = slope * ( x - avg_x )\n",
    "    # Rewrite this function in the form\n",
    "    # y = m * x + b\n",
    "    m = slope\n",
    "    b = avg_scores - m * avg_sleep\n",
    "    # Then return the values m, b\n",
    "\n",
    "    return m,b\n",
    "\n",
    "\n",
    "if __name__==\"__main__\":\n",
    "    m,b = compute_regression(sleep,scores)\n",
    "    print \"Your linear model is y={}*x+{}\".format(m,b)"
   ]
  }
 ],
 "metadata": {
  "anaconda-cloud": {},
  "kernelspec": {
   "display_name": "Python [conda env:py27ml]",
   "language": "python",
   "name": "conda-env-py27ml-py"
  },
  "language_info": {
   "codemirror_mode": {
    "name": "ipython",
    "version": 2
   },
   "file_extension": ".py",
   "mimetype": "text/x-python",
   "name": "python",
   "nbconvert_exporter": "python",
   "pygments_lexer": "ipython2",
   "version": "2.7.12"
  }
 },
 "nbformat": 4,
 "nbformat_minor": 2
}
