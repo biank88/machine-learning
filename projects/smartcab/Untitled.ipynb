{
 "cells": [
  {
   "cell_type": "code",
   "execution_count": 9,
   "metadata": {
    "collapsed": false
   },
   "outputs": [],
   "source": [
    "def random_key_with_max_val(d):\n",
    "            import random\n",
    "\n",
    "            max_value = max(d.values())\n",
    "            \n",
    "            # create a list to store the keys whose value is equal to max_value\n",
    "            max_keys = []\n",
    "\n",
    "            # populate max_keys list\n",
    "            for key, value in d.items():\n",
    "                if value == max_value:\n",
    "                    max_keys.append(key)\n",
    "\n",
    "            # pick a random among the keys found and collected in max_keys\n",
    "            key = random.choice(max_keys)\n",
    "\n",
    "            return key"
   ]
  },
  {
   "cell_type": "code",
   "execution_count": 5,
   "metadata": {
    "collapsed": true
   },
   "outputs": [],
   "source": [
    "d = dict(red=0, green=0, blue=-25)"
   ]
  },
  {
   "cell_type": "code",
   "execution_count": 7,
   "metadata": {
    "collapsed": false
   },
   "outputs": [
    {
     "data": {
      "text/plain": [
       "{'blue': -25, 'green': 0, 'red': 0}"
      ]
     },
     "execution_count": 7,
     "metadata": {},
     "output_type": "execute_result"
    }
   ],
   "source": [
    "d"
   ]
  },
  {
   "cell_type": "code",
   "execution_count": 11,
   "metadata": {
    "collapsed": false
   },
   "outputs": [
    {
     "data": {
      "text/plain": [
       "'red'"
      ]
     },
     "execution_count": 11,
     "metadata": {},
     "output_type": "execute_result"
    }
   ],
   "source": [
    "random_key_with_max_val(d)"
   ]
  },
  {
   "cell_type": "code",
   "execution_count": 13,
   "metadata": {
    "collapsed": false
   },
   "outputs": [
    {
     "data": {
      "text/plain": [
       "'green'"
      ]
     },
     "execution_count": 13,
     "metadata": {},
     "output_type": "execute_result"
    }
   ],
   "source": [
    "random_key_with_max_val(d)"
   ]
  },
  {
   "cell_type": "code",
   "execution_count": 16,
   "metadata": {
    "collapsed": false
   },
   "outputs": [
    {
     "name": "stdout",
     "output_type": "stream",
     "text": [
      "40\n",
      "60\n"
     ]
    }
   ],
   "source": [
    "red_count = 0\n",
    "green_count = 0\n",
    "\n",
    "for i in range(100):\n",
    "    result  = random_key_with_max_val(d)\n",
    "    if result == 'red':\n",
    "        red_count += 1\n",
    "    elif result == 'green':\n",
    "        green_count += 1\n",
    "print(red_count)\n",
    "print(green_count)"
   ]
  },
  {
   "cell_type": "code",
   "execution_count": 19,
   "metadata": {
    "collapsed": false
   },
   "outputs": [
    {
     "data": {
      "text/plain": [
       "0.3077993724446536"
      ]
     },
     "execution_count": 19,
     "metadata": {},
     "output_type": "execute_result"
    }
   ],
   "source": [
    "import math\n",
    "\n",
    "b = 1\n",
    "c = 1\n",
    "\n",
    "t = 1\n",
    "\n",
    "epsilon = 1 - math.exp(-b * math.exp(-c * t))\n",
    "\n",
    "epsilon"
   ]
  }
 ],
 "metadata": {
  "anaconda-cloud": {},
  "kernelspec": {
   "display_name": "Python [conda env:py27ml]",
   "language": "python",
   "name": "conda-env-py27ml-py"
  },
  "language_info": {
   "codemirror_mode": {
    "name": "ipython",
    "version": 2
   },
   "file_extension": ".py",
   "mimetype": "text/x-python",
   "name": "python",
   "nbconvert_exporter": "python",
   "pygments_lexer": "ipython2",
   "version": "2.7.12"
  }
 },
 "nbformat": 4,
 "nbformat_minor": 2
}
